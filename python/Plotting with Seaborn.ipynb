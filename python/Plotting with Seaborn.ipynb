{
 "cells": [
  {
   "cell_type": "markdown",
   "metadata": {
    "nbpresent": {
     "id": "8c7fc876-609d-4a5f-a6fc-9d4dd9ffbb17"
    }
   },
   "source": [
    "# Plotting with Seaborn\n",
    "\n",
    "[Seaborn]() [Gallery]()"
   ]
  },
  {
   "cell_type": "markdown",
   "metadata": {
    "nbpresent": {
     "id": "0044bf3d-f890-4245-86cd-b597ece91c83"
    }
   },
   "source": [
    "## Quick Demo"
   ]
  },
  {
   "cell_type": "markdown",
   "metadata": {
    "nbpresent": {
     "id": "acc5d04b-a690-49fe-bb56-c33268db54af"
    }
   },
   "source": [
    "### Important imports"
   ]
  },
  {
   "cell_type": "code",
   "execution_count": 2,
   "metadata": {
    "nbpresent": {
     "id": "013c9012-8158-49fb-89cd-dd859c0df1c5"
    }
   },
   "outputs": [],
   "source": [
    "import matplotlib.pyplot as plt\n",
    "import seaborn as sns\n",
    "import pandas as pd\n",
    "import numpy as np\n",
    "%matplotlib inline"
   ]
  },
  {
   "cell_type": "code",
   "execution_count": 3,
   "metadata": {
    "nbpresent": {
     "id": "dacf9b2c-eda4-4b25-8ecc-cbdef9cc1eb1"
    }
   },
   "outputs": [],
   "source": [
    "import logging\n",
    "logging.getLogger('seaborn').setLevel(logging.ERROR)\n",
    "import warnings\n",
    "warnings.filterwarnings(\"ignore\")"
   ]
  },
  {
   "cell_type": "markdown",
   "metadata": {
    "nbpresent": {
     "id": "9ba2f787-12a9-4935-9247-c126b7cdc029"
    }
   },
   "source": [
    "### Sample datasets"
   ]
  },
  {
   "cell_type": "code",
   "execution_count": 3,
   "metadata": {
    "nbpresent": {
     "id": "19987e9c-69b9-476d-92fa-dd59a78ff1b2"
    }
   },
   "outputs": [
    {
     "data": {
      "text/plain": [
       "['anscombe',\n",
       " 'attention',\n",
       " 'brain_networks',\n",
       " 'car_crashes',\n",
       " 'diamonds',\n",
       " 'dots',\n",
       " 'exercise',\n",
       " 'flights',\n",
       " 'fmri',\n",
       " 'gammas',\n",
       " 'iris',\n",
       " 'mpg',\n",
       " 'planets',\n",
       " 'tips',\n",
       " 'titanic']"
      ]
     },
     "execution_count": 3,
     "metadata": {},
     "output_type": "execute_result"
    }
   ],
   "source": [
    " sns.get_dataset_names()"
   ]
  },
  {
   "cell_type": "code",
   "execution_count": 16,
   "metadata": {
    "nbpresent": {
     "id": "06a6f1eb-0e08-4e80-8dc0-42c26b6ef4e1"
    }
   },
   "outputs": [
    {
     "data": {
      "text/html": [
       "<div>\n",
       "<style scoped>\n",
       "    .dataframe tbody tr th:only-of-type {\n",
       "        vertical-align: middle;\n",
       "    }\n",
       "\n",
       "    .dataframe tbody tr th {\n",
       "        vertical-align: top;\n",
       "    }\n",
       "\n",
       "    .dataframe thead th {\n",
       "        text-align: right;\n",
       "    }\n",
       "</style>\n",
       "<table border=\"1\" class=\"dataframe\">\n",
       "  <thead>\n",
       "    <tr style=\"text-align: right;\">\n",
       "      <th></th>\n",
       "      <th>total</th>\n",
       "      <th>speeding</th>\n",
       "      <th>alcohol</th>\n",
       "      <th>not_distracted</th>\n",
       "      <th>no_previous</th>\n",
       "      <th>ins_premium</th>\n",
       "      <th>ins_losses</th>\n",
       "      <th>abbrev</th>\n",
       "    </tr>\n",
       "  </thead>\n",
       "  <tbody>\n",
       "    <tr>\n",
       "      <th>0</th>\n",
       "      <td>18.8</td>\n",
       "      <td>7.332</td>\n",
       "      <td>5.640</td>\n",
       "      <td>18.048</td>\n",
       "      <td>15.040</td>\n",
       "      <td>784.55</td>\n",
       "      <td>145.08</td>\n",
       "      <td>AL</td>\n",
       "    </tr>\n",
       "    <tr>\n",
       "      <th>1</th>\n",
       "      <td>18.1</td>\n",
       "      <td>7.421</td>\n",
       "      <td>4.525</td>\n",
       "      <td>16.290</td>\n",
       "      <td>17.014</td>\n",
       "      <td>1053.48</td>\n",
       "      <td>133.93</td>\n",
       "      <td>AK</td>\n",
       "    </tr>\n",
       "  </tbody>\n",
       "</table>\n",
       "</div>"
      ],
      "text/plain": [
       "   total  speeding  alcohol  not_distracted  no_previous  ins_premium  \\\n",
       "0   18.8     7.332    5.640          18.048       15.040       784.55   \n",
       "1   18.1     7.421    4.525          16.290       17.014      1053.48   \n",
       "\n",
       "   ins_losses abbrev  \n",
       "0      145.08     AL  \n",
       "1      133.93     AK  "
      ]
     },
     "execution_count": 16,
     "metadata": {},
     "output_type": "execute_result"
    }
   ],
   "source": [
    "car_crashes = sns.load_dataset('car_crashes')\n",
    "car_crashes.head(2)"
   ]
  },
  {
   "cell_type": "code",
   "execution_count": 21,
   "metadata": {
    "scrolled": true
   },
   "outputs": [
    {
     "data": {
      "text/html": [
       "<div>\n",
       "<style scoped>\n",
       "    .dataframe tbody tr th:only-of-type {\n",
       "        vertical-align: middle;\n",
       "    }\n",
       "\n",
       "    .dataframe tbody tr th {\n",
       "        vertical-align: top;\n",
       "    }\n",
       "\n",
       "    .dataframe thead th {\n",
       "        text-align: right;\n",
       "    }\n",
       "</style>\n",
       "<table border=\"1\" class=\"dataframe\">\n",
       "  <thead>\n",
       "    <tr style=\"text-align: right;\">\n",
       "      <th></th>\n",
       "      <th>survived</th>\n",
       "      <th>pclass</th>\n",
       "      <th>sex</th>\n",
       "      <th>age</th>\n",
       "      <th>sibsp</th>\n",
       "      <th>parch</th>\n",
       "      <th>fare</th>\n",
       "      <th>embarked</th>\n",
       "      <th>class</th>\n",
       "      <th>who</th>\n",
       "      <th>adult_male</th>\n",
       "      <th>deck</th>\n",
       "      <th>embark_town</th>\n",
       "      <th>alive</th>\n",
       "      <th>alone</th>\n",
       "    </tr>\n",
       "  </thead>\n",
       "  <tbody>\n",
       "    <tr>\n",
       "      <th>0</th>\n",
       "      <td>0</td>\n",
       "      <td>3</td>\n",
       "      <td>male</td>\n",
       "      <td>22.0</td>\n",
       "      <td>1</td>\n",
       "      <td>0</td>\n",
       "      <td>7.2500</td>\n",
       "      <td>S</td>\n",
       "      <td>Third</td>\n",
       "      <td>man</td>\n",
       "      <td>True</td>\n",
       "      <td>NaN</td>\n",
       "      <td>Southampton</td>\n",
       "      <td>no</td>\n",
       "      <td>False</td>\n",
       "    </tr>\n",
       "    <tr>\n",
       "      <th>1</th>\n",
       "      <td>1</td>\n",
       "      <td>1</td>\n",
       "      <td>female</td>\n",
       "      <td>38.0</td>\n",
       "      <td>1</td>\n",
       "      <td>0</td>\n",
       "      <td>71.2833</td>\n",
       "      <td>C</td>\n",
       "      <td>First</td>\n",
       "      <td>woman</td>\n",
       "      <td>False</td>\n",
       "      <td>C</td>\n",
       "      <td>Cherbourg</td>\n",
       "      <td>yes</td>\n",
       "      <td>False</td>\n",
       "    </tr>\n",
       "  </tbody>\n",
       "</table>\n",
       "</div>"
      ],
      "text/plain": [
       "   survived  pclass     sex   age  sibsp  parch     fare embarked  class  \\\n",
       "0         0       3    male  22.0      1      0   7.2500        S  Third   \n",
       "1         1       1  female  38.0      1      0  71.2833        C  First   \n",
       "\n",
       "     who  adult_male deck  embark_town alive  alone  \n",
       "0    man        True  NaN  Southampton    no  False  \n",
       "1  woman       False    C    Cherbourg   yes  False  "
      ]
     },
     "execution_count": 21,
     "metadata": {},
     "output_type": "execute_result"
    }
   ],
   "source": [
    "titanic = sns.load_dataset(\"titanic\")\n",
    "titanic.head(2)"
   ]
  },
  {
   "cell_type": "markdown",
   "metadata": {},
   "source": [
    "## Select DataFrame"
   ]
  },
  {
   "cell_type": "code",
   "execution_count": 34,
   "metadata": {},
   "outputs": [],
   "source": [
    "df = car_crashes\n",
    "df = titanic"
   ]
  },
  {
   "cell_type": "markdown",
   "metadata": {},
   "source": [
    "#### Categorials and Intervals"
   ]
  },
  {
   "cell_type": "code",
   "execution_count": 35,
   "metadata": {
    "nbpresent": {
     "id": "acf02c35-097d-4aae-921f-f1447865d9b2"
    }
   },
   "outputs": [
    {
     "data": {
      "text/plain": [
       "(['survived',\n",
       "  'pclass',\n",
       "  'age',\n",
       "  'sibsp',\n",
       "  'parch',\n",
       "  'fare',\n",
       "  'class',\n",
       "  'adult_male',\n",
       "  'deck',\n",
       "  'alone'],\n",
       " ['sex', 'embarked', 'who', 'embark_town', 'alive'])"
      ]
     },
     "execution_count": 35,
     "metadata": {},
     "output_type": "execute_result"
    }
   ],
   "source": [
    "categorial_column_types = ['object','datetime']\n",
    "\n",
    "intervals = df.select_dtypes(exclude=categorial_column_types).columns.values.tolist()\n",
    "categorials = df.select_dtypes(include=categorial_column_types).columns.values.tolist()\n",
    "\n",
    "intervals, categorials"
   ]
  },
  {
   "cell_type": "markdown",
   "metadata": {},
   "source": [
    "## Co-relation Matrix "
   ]
  },
  {
   "cell_type": "markdown",
   "metadata": {},
   "source": [
    "### Heatmap"
   ]
  },
  {
   "cell_type": "code",
   "execution_count": 33,
   "metadata": {
    "scrolled": true
   },
   "outputs": [
    {
     "data": {
      "text/plain": [
       "<matplotlib.axes._subplots.AxesSubplot at 0x7fe267956e80>"
      ]
     },
     "execution_count": 33,
     "metadata": {},
     "output_type": "execute_result"
    },
    {
     "data": {
      "image/png": "[encoded data removed]",
      "text/plain": [
       "<Figure size 432x288 with 2 Axes>"
      ]
     },
     "metadata": {
      "needs_background": "light"
     },
     "output_type": "display_data"
    }
   ],
   "source": [
    "sns.heatmap(df.corr(),\n",
    "            annot = True,\n",
    "            linewidths = .9,\n",
    "            annot_kws = {\"size\": 8})"
   ]
  },
  {
   "cell_type": "code",
   "execution_count": 37,
   "metadata": {},
   "outputs": [
    {
     "data": {
      "image/png": "[encoded data removed]",
      "text/plain": [
       "<Figure size 432x288 with 1 Axes>"
      ]
     },
     "metadata": {
      "needs_background": "light"
     },
     "output_type": "display_data"
    }
   ],
   "source": [
    "ax1 = sns.countplot(x = categorials[1], data = df.sample(10))"
   ]
  },
  {
   "cell_type": "code",
   "execution_count": 41,
   "metadata": {
    "nbpresent": {
     "id": "3cb3f23a-a9c6-4c33-b091-4d6e055a72af"
    }
   },
   "outputs": [
    {
     "data": {
      "text/plain": [
       "<seaborn.axisgrid.JointGrid at 0x7fe261f56c88>"
      ]
     },
     "execution_count": 41,
     "metadata": {},
     "output_type": "execute_result"
    },
    {
     "data": {
      "image/png": "[encoded data removed]",
      "text/plain": [
       "<Figure size 432x432 with 3 Axes>"
      ]
     },
     "metadata": {
      "needs_background": "light"
     },
     "output_type": "display_data"
    },
    {
     "data": {
      "image/png": "[encoded data removed]",
      "text/plain": [
       "<Figure size 432x432 with 3 Axes>"
      ]
     },
     "metadata": {
      "needs_background": "light"
     },
     "output_type": "display_data"
    }
   ],
   "source": [
    "sns.jointplot(x = intervals[0], y = intervals[1], data=df, kind='hex')\n",
    "sns.jointplot(x = intervals[0], y = intervals[1], data=df, kind='scatter')"
   ]
  },
  {
   "cell_type": "code",
   "execution_count": 44,
   "metadata": {
    "nbpresent": {
     "id": "bb63f4d8-1535-4462-a8c3-e36bc7d836da"
    }
   },
   "outputs": [],
   "source": [
    "if id(df) == id(car_crashes):\n",
    "    df['log(speeding)'] = df['speeding'].apply(np.log)\n",
    "    df.head(2)"
   ]
  }
 ],
 "metadata": {
  "anaconda-cloud": {},
  "kernelspec": {
   "display_name": "Python 3",
   "language": "python",
   "name": "python3"
  },
  "language_info": {
   "codemirror_mode": {
    "name": "ipython",
    "version": 3
   },
   "file_extension": ".py",
   "mimetype": "text/x-python",
   "name": "python",
   "nbconvert_exporter": "python",
   "pygments_lexer": "ipython3",
   "version": "3.7.3"
  },
  "nbpresent": {
   "slides": {
    "05097c2b-956d-4da6-8768-90d4c23cfba0": {
     "id": "05097c2b-956d-4da6-8768-90d4c23cfba0",
     "prev": "fe279d89-aa4d-44dc-beea-75f9f4e2c05f",
     "regions": {
      "84914105-9c15-42c9-8638-10bae7c2f544": {
       "attrs": {
        "height": 0.8,
        "width": 0.8,
        "x": 0.1,
        "y": 0.1
       },
       "content": {
        "cell": "06a6f1eb-0e08-4e80-8dc0-42c26b6ef4e1",
        "part": "whole"
       },
       "id": "84914105-9c15-42c9-8638-10bae7c2f544"
      }
     }
    },
    "226f4ae2-ae19-4bed-99b6-eedfc6b3d436": {
     "id": "226f4ae2-ae19-4bed-99b6-eedfc6b3d436",
     "prev": "6c039f28-d7c5-4bbb-a971-fe7160a71fef",
     "regions": {
      "cf5e428f-463a-4bf0-bdde-2197c86ffef3": {
       "attrs": {
        "height": 0.8,
        "width": 0.8,
        "x": 0.1,
        "y": 0.1
       },
       "content": {
        "cell": "0044bf3d-f890-4245-86cd-b597ece91c83",
        "part": "whole"
       },
       "id": "cf5e428f-463a-4bf0-bdde-2197c86ffef3"
      }
     }
    },
    "2790cb02-558b-4bf7-a9c5-d88f62daaf78": {
     "id": "2790cb02-558b-4bf7-a9c5-d88f62daaf78",
     "prev": "7108e9c0-524e-4fd7-a354-df8fa2440ac1",
     "regions": {
      "799fecfa-0df8-4773-877c-e091f1f33726": {
       "attrs": {
        "height": 0.8,
        "width": 0.8,
        "x": 0.1,
        "y": 0.1
       },
       "content": {
        "cell": "da020f53-8e73-4da2-a024-ba72d90ef869",
        "part": "whole"
       },
       "id": "799fecfa-0df8-4773-877c-e091f1f33726"
      }
     }
    },
    "2d7e0600-a1c7-4b62-b8c4-aa7a08e6a410": {
     "id": "2d7e0600-a1c7-4b62-b8c4-aa7a08e6a410",
     "prev": "2790cb02-558b-4bf7-a9c5-d88f62daaf78",
     "regions": {
      "cba13c62-1cab-4210-9e73-a7cdd264f612": {
       "attrs": {
        "height": 0.8,
        "width": 0.8,
        "x": 0.1,
        "y": 0.1
       },
       "content": {
        "cell": "3cb3f23a-a9c6-4c33-b091-4d6e055a72af",
        "part": "whole"
       },
       "id": "cba13c62-1cab-4210-9e73-a7cdd264f612"
      }
     }
    },
    "3e2cf023-1981-47c9-acfa-f7d1aa2b65ad": {
     "id": "3e2cf023-1981-47c9-acfa-f7d1aa2b65ad",
     "prev": "2d7e0600-a1c7-4b62-b8c4-aa7a08e6a410",
     "regions": {
      "b3461e3c-0d00-4215-a3f8-1414091cbd48": {
       "attrs": {
        "height": 0.8,
        "width": 0.8,
        "x": 0.1,
        "y": 0.1
       },
       "content": {
        "cell": "bb63f4d8-1535-4462-a8c3-e36bc7d836da",
        "part": "whole"
       },
       "id": "b3461e3c-0d00-4215-a3f8-1414091cbd48"
      }
     }
    },
    "49ca6212-8f9f-4669-9255-1c4d19f4558b": {
     "id": "49ca6212-8f9f-4669-9255-1c4d19f4558b",
     "prev": "7f20215e-d9a4-4bb3-9a96-7c96d2f1ba00",
     "regions": {
      "5d51827f-0102-405c-afa9-759291d395cb": {
       "attrs": {
        "height": 0.8,
        "width": 0.8,
        "x": 0.1,
        "y": 0.1
       },
       "content": {
        "cell": "9ba2f787-12a9-4935-9247-c126b7cdc029",
        "part": "whole"
       },
       "id": "5d51827f-0102-405c-afa9-759291d395cb"
      }
     }
    },
    "4eec0d00-1ae1-40c7-af71-815b7adcf1c5": {
     "id": "4eec0d00-1ae1-40c7-af71-815b7adcf1c5",
     "prev": "05097c2b-956d-4da6-8768-90d4c23cfba0",
     "regions": {
      "654d308d-9fd6-4a37-8846-9d245b8454f0": {
       "attrs": {
        "height": 0.8,
        "width": 0.8,
        "x": 0.1,
        "y": 0.1
       },
       "content": {
        "cell": "571d9a38-6229-42e7-9909-498988823b12",
        "part": "whole"
       },
       "id": "654d308d-9fd6-4a37-8846-9d245b8454f0"
      }
     }
    },
    "64a26ad2-7aec-4c1f-ae26-8f493582073c": {
     "id": "64a26ad2-7aec-4c1f-ae26-8f493582073c",
     "prev": "ff4181e3-9a29-4ac0-a02e-2a24153ae517",
     "regions": {
      "02094ad2-03d3-4232-9f15-59aae30b943a": {
       "attrs": {
        "height": 0.8,
        "width": 0.8,
        "x": 0.1,
        "y": 0.1
       },
       "content": {
        "cell": "013c9012-8158-49fb-89cd-dd859c0df1c5",
        "part": "whole"
       },
       "id": "02094ad2-03d3-4232-9f15-59aae30b943a"
      }
     }
    },
    "6c039f28-d7c5-4bbb-a971-fe7160a71fef": {
     "id": "6c039f28-d7c5-4bbb-a971-fe7160a71fef",
     "prev": null,
     "regions": {
      "9d35f1d4-70d0-495b-8a71-c6c57b04c56e": {
       "attrs": {
        "height": 0.8,
        "width": 0.8,
        "x": 0.1,
        "y": 0.1
       },
       "content": {
        "cell": "8c7fc876-609d-4a5f-a6fc-9d4dd9ffbb17",
        "part": "whole"
       },
       "id": "9d35f1d4-70d0-495b-8a71-c6c57b04c56e"
      }
     }
    },
    "7108e9c0-524e-4fd7-a354-df8fa2440ac1": {
     "id": "7108e9c0-524e-4fd7-a354-df8fa2440ac1",
     "prev": "4eec0d00-1ae1-40c7-af71-815b7adcf1c5",
     "regions": {
      "7e2e908a-d243-4262-bb5b-4cd823c81fca": {
       "attrs": {
        "height": 0.8,
        "width": 0.8,
        "x": 0.1,
        "y": 0.1
       },
       "content": {
        "cell": "acf02c35-097d-4aae-921f-f1447865d9b2",
        "part": "whole"
       },
       "id": "7e2e908a-d243-4262-bb5b-4cd823c81fca"
      }
     }
    },
    "7f20215e-d9a4-4bb3-9a96-7c96d2f1ba00": {
     "id": "7f20215e-d9a4-4bb3-9a96-7c96d2f1ba00",
     "prev": "64a26ad2-7aec-4c1f-ae26-8f493582073c",
     "regions": {
      "f684d5a2-2cae-4a43-9d90-fb62b7b64d70": {
       "attrs": {
        "height": 0.8,
        "width": 0.8,
        "x": 0.1,
        "y": 0.1
       },
       "content": {
        "cell": "dacf9b2c-eda4-4b25-8ecc-cbdef9cc1eb1",
        "part": "whole"
       },
       "id": "f684d5a2-2cae-4a43-9d90-fb62b7b64d70"
      }
     }
    },
    "fe279d89-aa4d-44dc-beea-75f9f4e2c05f": {
     "id": "fe279d89-aa4d-44dc-beea-75f9f4e2c05f",
     "prev": "49ca6212-8f9f-4669-9255-1c4d19f4558b",
     "regions": {
      "f966d351-0209-4af4-b707-3cfae8e94279": {
       "attrs": {
        "height": 0.8,
        "width": 0.8,
        "x": 0.1,
        "y": 0.1
       },
       "content": {
        "cell": "19987e9c-69b9-476d-92fa-dd59a78ff1b2",
        "part": "whole"
       },
       "id": "f966d351-0209-4af4-b707-3cfae8e94279"
      }
     }
    },
    "ff4181e3-9a29-4ac0-a02e-2a24153ae517": {
     "id": "ff4181e3-9a29-4ac0-a02e-2a24153ae517",
     "prev": "226f4ae2-ae19-4bed-99b6-eedfc6b3d436",
     "regions": {
      "2fc8dd0f-16c6-4ff3-a739-9016803315dc": {
       "attrs": {
        "height": 0.8,
        "width": 0.8,
        "x": 0.1,
        "y": 0.1
       },
       "content": {
        "cell": "acc5d04b-a690-49fe-bb56-c33268db54af",
        "part": "whole"
       },
       "id": "2fc8dd0f-16c6-4ff3-a739-9016803315dc"
      }
     }
    }
   },
   "themes": {
    "default": "eddd0441-9950-4f50-87a7-d0050ff284f2",
    "theme": {}
   }
  },
  "toc": {
   "base_numbering": 1,
   "nav_menu": {},
   "number_sections": true,
   "sideBar": true,
   "skip_h1_title": false,
   "title_cell": "Table of Contents",
   "title_sidebar": "Contents",
   "toc_cell": false,
   "toc_position": {},
   "toc_section_display": true,
   "toc_window_display": false
  }
 },
 "nbformat": 4,
 "nbformat_minor": 1
}
